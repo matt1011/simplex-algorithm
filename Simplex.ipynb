{
 "cells": [
  {
   "cell_type": "code",
   "execution_count": 216,
   "metadata": {
    "collapsed": true
   },
   "outputs": [],
   "source": [
    "import numpy as np\n",
    "from numpy.linalg import inv"
   ]
  },
  {
   "cell_type": "code",
   "execution_count": 217,
   "metadata": {},
   "outputs": [],
   "source": [
    "def run_simplex(X, O, A, BV, objective):\n",
    "    count = 0\n",
    "    while True:\n",
    "        B = A[:, [BV]]\n",
    "        N = np.delete(A, BV, axis=1)\n",
    "        Cb = O[BV]\n",
    "        Cnb = np.delete(O, BV, axis=0)\n",
    "        Binv = inv(np.matrix(B)) #take inverse of B matrix\n",
    "        Cn = Cnb - Cb*Binv*N #calc reduced costs (Cn)\n",
    "        #print(\"Cn\", Cn)\n",
    "        if objective == \"max\":\n",
    "            j = np.argmax(Cn) #find the index of max cost (j)\n",
    "            #print(j,Cn[0,j])\n",
    "            if Cn[0,j] <= 0:\n",
    "                print(\"BFS is optimal\", \"X\", X, \"Cb\", Cb, \"Cnb\", Cnb, \"B\", B, \"N\", N)\n",
    "                break\n",
    "        else:\n",
    "            j = np.argmin(Cn) #find the index of min cost (j)\n",
    "            if Cn[0,j] >= 0:\n",
    "                print(\"BFS is optimal\", \"X\", X, \"Cb\", Cb, \"Cnb\", Cnb, \"B\", B, \"N\", N)\n",
    "                break\n",
    "        Aj = N[:,j] #column that will enter the basis\n",
    "        mn = N.shape[1] #number of col in N\n",
    "        mj = Aj.shape[0] #number of rows in Aj\n",
    "        Aj = np.reshape(Aj, (mj,1)) #flip Aj\n",
    "        db = np.dot(-Binv,Aj) #find improving direction step 1\n",
    "        dn = np.zeros((mn, 1)) #step 2, all entries of dN are zero with the exception of the non-basic variable j \n",
    "        dn[j] = 1 #step 3\n",
    "        d = np.vstack((db,dn)) #step 4 improving direction (d)\n",
    "        minimum = 10000\n",
    "        for q in range(len(X)):\n",
    "            for p in range(len(d)):\n",
    "                if X[q] != 0:\n",
    "                    if d[p] < 0:\n",
    "                        if - X[q] / d[p] < minimum:\n",
    "                            #print(\"step\", X[q] / d[j], X[q], d[j])\n",
    "                            leaving = q\n",
    "                            minimum = -X[q] / d[p]\n",
    "        if minimum == 10000:\n",
    "            print(\"BFS is optimal\", \"X\", X, \"Cb\", Cb, \"Cnb\", Cnb, \"B\", B, \"N\", N)\n",
    "            break\n",
    "        else:\n",
    "            X[leaving] = 0\n",
    "            X[j] = minimum\n",
    "            counter = 0\n",
    "            for i in BV:\n",
    "                if i == leaving:\n",
    "                    BV[counter] = j\n",
    "                counter += 1        \n",
    "            count += 1\n",
    "        \n",
    "        if count > 2000:\n",
    "            print(\"error this program took too long to run\")\n",
    "            break"
   ]
  },
  {
   "cell_type": "code",
   "execution_count": 218,
   "metadata": {
    "collapsed": true
   },
   "outputs": [],
   "source": [
    "def test1():\n",
    "    X = np.array([0, 0, 0, 3, 5], dtype=float)  #value of variables\n",
    "    O = np.array([3, 2, 1, 0, 0], dtype=float)  #objective function\n",
    "    A = np.array([ #contraints\n",
    "    [2, -3, 2, 1, 0],\n",
    "    [-1, 1, 1, 0, 1],\n",
    "    ], dtype=float)\n",
    "    BV = [3,4] #list of basic variables\n",
    "    objective = \"max\" #optimality condition\n",
    "    run_simplex(X, O, A, BV, objective)"
   ]
  },
  {
   "cell_type": "code",
   "execution_count": 219,
   "metadata": {},
   "outputs": [
    {
     "name": "stdout",
     "output_type": "stream",
     "text": [
      "BFS is optimal X [ 1.5  0.   0.   0.   5. ] Cb [ 3.  0.] Cnb [ 2.  1.  0.] B [[[ 2.  0.]]\n",
      "\n",
      " [[-1.  1.]]] N [[-3.  2.  1.]\n",
      " [ 1.  1.  0.]]\n"
     ]
    }
   ],
   "source": [
    "if __name__ == '__main__':\n",
    "    test1()\n",
    "    \n",
    "#Code by Matt Eisner"
   ]
  }
 ],
 "metadata": {
  "kernelspec": {
   "display_name": "Python 3",
   "language": "python",
   "name": "python3"
  },
  "language_info": {
   "codemirror_mode": {
    "name": "ipython",
    "version": 3
   },
   "file_extension": ".py",
   "mimetype": "text/x-python",
   "name": "python",
   "nbconvert_exporter": "python",
   "pygments_lexer": "ipython3",
   "version": "3.6.2"
  }
 },
 "nbformat": 4,
 "nbformat_minor": 2
}
